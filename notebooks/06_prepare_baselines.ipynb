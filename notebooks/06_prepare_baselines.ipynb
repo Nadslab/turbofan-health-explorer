{
 "cells": [
  {
   "cell_type": "code",
   "execution_count": 2,
   "id": "1ddb5457-5932-4cec-a40f-1a9dfdda72b7",
   "metadata": {},
   "outputs": [],
   "source": [
    "FEATURES = [\n",
    "    \"op1\",\"op2\",\"op3\",\n",
    "    \"s2\",\"s3\",\"s4\",\n",
    "    \"s2_rollmean\",\"s3_rollmean\",\"s4_rollmean\",\n",
    "    \"s2_ema\",\"s3_ema\",\"s4_ema\"\n",
    "]\n",
    "ROLL_WINDOW = 20\n",
    "EMA_SPAN = 20\n",
    "SPLIT_SEED = 42\n"
   ]
  },
  {
   "cell_type": "code",
   "execution_count": 1,
   "id": "d9814494-a19d-4d22-a0de-f6844931cb28",
   "metadata": {},
   "outputs": [
    {
     "name": "stdout",
     "output_type": "stream",
     "text": [
      "Loaded: (20631, 25)\n"
     ]
    },
    {
     "data": {
      "text/html": [
       "<div>\n",
       "<style scoped>\n",
       "    .dataframe tbody tr th:only-of-type {\n",
       "        vertical-align: middle;\n",
       "    }\n",
       "\n",
       "    .dataframe tbody tr th {\n",
       "        vertical-align: top;\n",
       "    }\n",
       "\n",
       "    .dataframe thead th {\n",
       "        text-align: right;\n",
       "    }\n",
       "</style>\n",
       "<table border=\"1\" class=\"dataframe\">\n",
       "  <thead>\n",
       "    <tr style=\"text-align: right;\">\n",
       "      <th></th>\n",
       "      <th>unit</th>\n",
       "      <th>cycle</th>\n",
       "      <th>op1</th>\n",
       "      <th>op2</th>\n",
       "      <th>op3</th>\n",
       "      <th>s2</th>\n",
       "      <th>s3</th>\n",
       "      <th>s4</th>\n",
       "      <th>s7</th>\n",
       "      <th>s8</th>\n",
       "      <th>...</th>\n",
       "      <th>s4_rollstd</th>\n",
       "      <th>s2_ema</th>\n",
       "      <th>s3_ema</th>\n",
       "      <th>s4_ema</th>\n",
       "      <th>s2_slope</th>\n",
       "      <th>s3_slope</th>\n",
       "      <th>s4_slope</th>\n",
       "      <th>RUL</th>\n",
       "      <th>health_stage</th>\n",
       "      <th>split</th>\n",
       "    </tr>\n",
       "  </thead>\n",
       "  <tbody>\n",
       "    <tr>\n",
       "      <th>0</th>\n",
       "      <td>1</td>\n",
       "      <td>1</td>\n",
       "      <td>-0.0007</td>\n",
       "      <td>-0.0004</td>\n",
       "      <td>100.0</td>\n",
       "      <td>641.820007</td>\n",
       "      <td>1589.699951</td>\n",
       "      <td>1400.599976</td>\n",
       "      <td>554.359985</td>\n",
       "      <td>2388.060059</td>\n",
       "      <td>...</td>\n",
       "      <td>0.000000</td>\n",
       "      <td>641.820007</td>\n",
       "      <td>1589.699951</td>\n",
       "      <td>1400.599976</td>\n",
       "      <td>NaN</td>\n",
       "      <td>NaN</td>\n",
       "      <td>NaN</td>\n",
       "      <td>191</td>\n",
       "      <td>healthy</td>\n",
       "      <td>test</td>\n",
       "    </tr>\n",
       "    <tr>\n",
       "      <th>1</th>\n",
       "      <td>1</td>\n",
       "      <td>2</td>\n",
       "      <td>0.0019</td>\n",
       "      <td>-0.0003</td>\n",
       "      <td>100.0</td>\n",
       "      <td>642.150024</td>\n",
       "      <td>1591.819946</td>\n",
       "      <td>1403.140015</td>\n",
       "      <td>553.750000</td>\n",
       "      <td>2388.040039</td>\n",
       "      <td>...</td>\n",
       "      <td>1.796079</td>\n",
       "      <td>641.851438</td>\n",
       "      <td>1589.901855</td>\n",
       "      <td>1400.841884</td>\n",
       "      <td>0.330017</td>\n",
       "      <td>2.119995</td>\n",
       "      <td>2.540039</td>\n",
       "      <td>190</td>\n",
       "      <td>healthy</td>\n",
       "      <td>test</td>\n",
       "    </tr>\n",
       "    <tr>\n",
       "      <th>2</th>\n",
       "      <td>1</td>\n",
       "      <td>3</td>\n",
       "      <td>-0.0043</td>\n",
       "      <td>0.0003</td>\n",
       "      <td>100.0</td>\n",
       "      <td>642.349976</td>\n",
       "      <td>1587.989990</td>\n",
       "      <td>1404.199951</td>\n",
       "      <td>554.260010</td>\n",
       "      <td>2388.080078</td>\n",
       "      <td>...</td>\n",
       "      <td>1.850004</td>\n",
       "      <td>641.898917</td>\n",
       "      <td>1589.719773</td>\n",
       "      <td>1401.161700</td>\n",
       "      <td>0.264984</td>\n",
       "      <td>-0.854980</td>\n",
       "      <td>1.799988</td>\n",
       "      <td>189</td>\n",
       "      <td>healthy</td>\n",
       "      <td>test</td>\n",
       "    </tr>\n",
       "    <tr>\n",
       "      <th>3</th>\n",
       "      <td>1</td>\n",
       "      <td>4</td>\n",
       "      <td>0.0007</td>\n",
       "      <td>0.0000</td>\n",
       "      <td>100.0</td>\n",
       "      <td>642.349976</td>\n",
       "      <td>1582.790039</td>\n",
       "      <td>1401.869995</td>\n",
       "      <td>554.450012</td>\n",
       "      <td>2388.110107</td>\n",
       "      <td>...</td>\n",
       "      <td>1.559639</td>\n",
       "      <td>641.941875</td>\n",
       "      <td>1589.059798</td>\n",
       "      <td>1401.229157</td>\n",
       "      <td>0.178986</td>\n",
       "      <td>-2.455969</td>\n",
       "      <td>0.487000</td>\n",
       "      <td>188</td>\n",
       "      <td>healthy</td>\n",
       "      <td>test</td>\n",
       "    </tr>\n",
       "    <tr>\n",
       "      <th>4</th>\n",
       "      <td>1</td>\n",
       "      <td>5</td>\n",
       "      <td>-0.0019</td>\n",
       "      <td>-0.0002</td>\n",
       "      <td>100.0</td>\n",
       "      <td>642.369995</td>\n",
       "      <td>1582.849976</td>\n",
       "      <td>1406.219971</td>\n",
       "      <td>554.000000</td>\n",
       "      <td>2388.060059</td>\n",
       "      <td>...</td>\n",
       "      <td>2.159432</td>\n",
       "      <td>641.982649</td>\n",
       "      <td>1588.468387</td>\n",
       "      <td>1401.704472</td>\n",
       "      <td>0.129993</td>\n",
       "      <td>-2.272986</td>\n",
       "      <td>0.996997</td>\n",
       "      <td>187</td>\n",
       "      <td>healthy</td>\n",
       "      <td>test</td>\n",
       "    </tr>\n",
       "  </tbody>\n",
       "</table>\n",
       "<p>5 rows × 25 columns</p>\n",
       "</div>"
      ],
      "text/plain": [
       "   unit  cycle     op1     op2    op3          s2           s3           s4  \\\n",
       "0     1      1 -0.0007 -0.0004  100.0  641.820007  1589.699951  1400.599976   \n",
       "1     1      2  0.0019 -0.0003  100.0  642.150024  1591.819946  1403.140015   \n",
       "2     1      3 -0.0043  0.0003  100.0  642.349976  1587.989990  1404.199951   \n",
       "3     1      4  0.0007  0.0000  100.0  642.349976  1582.790039  1401.869995   \n",
       "4     1      5 -0.0019 -0.0002  100.0  642.369995  1582.849976  1406.219971   \n",
       "\n",
       "           s7           s8  ...  s4_rollstd      s2_ema       s3_ema  \\\n",
       "0  554.359985  2388.060059  ...    0.000000  641.820007  1589.699951   \n",
       "1  553.750000  2388.040039  ...    1.796079  641.851438  1589.901855   \n",
       "2  554.260010  2388.080078  ...    1.850004  641.898917  1589.719773   \n",
       "3  554.450012  2388.110107  ...    1.559639  641.941875  1589.059798   \n",
       "4  554.000000  2388.060059  ...    2.159432  641.982649  1588.468387   \n",
       "\n",
       "        s4_ema  s2_slope  s3_slope  s4_slope  RUL  health_stage  split  \n",
       "0  1400.599976       NaN       NaN       NaN  191       healthy   test  \n",
       "1  1400.841884  0.330017  2.119995  2.540039  190       healthy   test  \n",
       "2  1401.161700  0.264984 -0.854980  1.799988  189       healthy   test  \n",
       "3  1401.229157  0.178986 -2.455969  0.487000  188       healthy   test  \n",
       "4  1401.704472  0.129993 -2.272986  0.996997  187       healthy   test  \n",
       "\n",
       "[5 rows x 25 columns]"
      ]
     },
     "execution_count": 1,
     "metadata": {},
     "output_type": "execute_result"
    }
   ],
   "source": [
    "import pandas as pd\n",
    "import numpy as np\n",
    "from pathlib import Path\n",
    "from sklearn.model_selection import train_test_split\n",
    "from sklearn.preprocessing import StandardScaler\n",
    "from sklearn.linear_model import LinearRegression, LogisticRegression\n",
    "from sklearn.metrics import mean_absolute_error, r2_score, accuracy_score, classification_report\n",
    "\n",
    "# Paths\n",
    "PROJECT = Path(\"C:/Users/Admin/Desktop/Projects/turbofan-health-explorer\")\n",
    "PROC = PROJECT / \"data\" / \"processed\"\n",
    "REPORTS = PROJECT / \"reports\"\n",
    "REPORTS.mkdir(exist_ok=True)\n",
    "\n",
    "# Load split dataset\n",
    "df = pd.read_parquet(PROC / \"train_FD001_split.parquet\")\n",
    "\n",
    "print(\"Loaded:\", df.shape)\n",
    "df.head()\n"
   ]
  },
  {
   "cell_type": "code",
   "execution_count": 2,
   "id": "af0acb71-bb41-4527-b8ab-4a3b56d2abb8",
   "metadata": {},
   "outputs": [
    {
     "name": "stdout",
     "output_type": "stream",
     "text": [
      "Feature count: 9\n"
     ]
    }
   ],
   "source": [
    "features = [\n",
    "    \"op1\", \"op2\", \"op3\",      # operating settings\n",
    "    \"s2\", \"s3\", \"s4\",         # informative sensors\n",
    "    \"s2_rollmean\", \"s3_rollmean\", \"s4_rollmean\"\n",
    "]\n",
    "\n",
    "target_reg = \"RUL\"\n",
    "target_cls = \"health_stage\"\n",
    "\n",
    "print(\"Feature count:\", len(features))\n"
   ]
  },
  {
   "cell_type": "code",
   "execution_count": 3,
   "id": "c64cb6b5-c37f-4405-9996-ff6852537484",
   "metadata": {},
   "outputs": [
    {
     "name": "stdout",
     "output_type": "stream",
     "text": [
      "(14874, 25) (1687, 25) (4070, 25)\n"
     ]
    }
   ],
   "source": [
    "train_df = df[df[\"split\"] == \"train\"].copy()\n",
    "val_df   = df[df[\"split\"] == \"val\"].copy()\n",
    "test_df  = df[df[\"split\"] == \"test\"].copy()\n",
    "\n",
    "print(train_df.shape, val_df.shape, test_df.shape)\n"
   ]
  },
  {
   "cell_type": "code",
   "execution_count": 4,
   "id": "9dafb17a-d6cc-476c-85f7-c54fcbf95d6d",
   "metadata": {},
   "outputs": [
    {
     "name": "stdout",
     "output_type": "stream",
     "text": [
      "Scaling complete — train mean ~0, std ~1\n"
     ]
    }
   ],
   "source": [
    "scaler = StandardScaler()\n",
    "\n",
    "X_train = scaler.fit_transform(train_df[features])\n",
    "X_val   = scaler.transform(val_df[features])\n",
    "X_test  = scaler.transform(test_df[features])\n",
    "\n",
    "y_train_reg = train_df[target_reg]\n",
    "y_val_reg   = val_df[target_reg]\n",
    "y_test_reg  = test_df[target_reg]\n",
    "\n",
    "y_train_cls = train_df[target_cls]\n",
    "y_val_cls   = val_df[target_cls]\n",
    "y_test_cls  = test_df[target_cls]\n",
    "\n",
    "print(\"Scaling complete — train mean ~0, std ~1\")\n"
   ]
  },
  {
   "cell_type": "code",
   "execution_count": 5,
   "id": "8c5e40f5-c3d0-4eb6-ab64-9d12a394975f",
   "metadata": {},
   "outputs": [
    {
     "name": "stdout",
     "output_type": "stream",
     "text": [
      "Linear Regression RUL MAE: 31.55\n",
      "R²: 0.616\n"
     ]
    }
   ],
   "source": [
    "reg = LinearRegression()\n",
    "reg.fit(X_train, y_train_reg)\n",
    "\n",
    "y_pred_reg = reg.predict(X_test)\n",
    "\n",
    "mae = mean_absolute_error(y_test_reg, y_pred_reg)\n",
    "r2  = r2_score(y_test_reg, y_pred_reg)\n",
    "\n",
    "print(f\"Linear Regression RUL MAE: {mae:.2f}\")\n",
    "print(f\"R²: {r2:.3f}\")\n"
   ]
  },
  {
   "cell_type": "code",
   "execution_count": 6,
   "id": "58273b2b-9d46-41fa-8bee-04be7d95d02e",
   "metadata": {},
   "outputs": [
    {
     "name": "stdout",
     "output_type": "stream",
     "text": [
      "Logistic Regression Accuracy: 0.676\n",
      "\n",
      "Class Report:\n",
      "               precision    recall  f1-score   support\n",
      "\n",
      "     healthy       0.71      0.68      0.70      1650\n",
      "   near_fail       0.81      0.86      0.83      1020\n",
      "     warning       0.54      0.54      0.54      1400\n",
      "\n",
      "    accuracy                           0.68      4070\n",
      "   macro avg       0.68      0.69      0.69      4070\n",
      "weighted avg       0.67      0.68      0.68      4070\n",
      "\n"
     ]
    }
   ],
   "source": [
    "# Encode labels\n",
    "from sklearn.preprocessing import LabelEncoder\n",
    "le = LabelEncoder()\n",
    "y_train_enc = le.fit_transform(y_train_cls)\n",
    "y_val_enc   = le.transform(y_val_cls)\n",
    "y_test_enc  = le.transform(y_test_cls)\n",
    "\n",
    "cls = LogisticRegression(max_iter=1000)\n",
    "cls.fit(X_train, y_train_enc)\n",
    "\n",
    "y_pred_cls = cls.predict(X_test)\n",
    "acc = accuracy_score(y_test_enc, y_pred_cls)\n",
    "\n",
    "print(f\"Logistic Regression Accuracy: {acc:.3f}\")\n",
    "print(\"\\nClass Report:\\n\", classification_report(y_test_enc, y_pred_cls, target_names=le.classes_))\n"
   ]
  },
  {
   "cell_type": "code",
   "execution_count": 7,
   "id": "1a0285fb-b3f2-4fb9-84df-5ea80a3de761",
   "metadata": {},
   "outputs": [
    {
     "data": {
      "text/html": [
       "<div>\n",
       "<style scoped>\n",
       "    .dataframe tbody tr th:only-of-type {\n",
       "        vertical-align: middle;\n",
       "    }\n",
       "\n",
       "    .dataframe tbody tr th {\n",
       "        vertical-align: top;\n",
       "    }\n",
       "\n",
       "    .dataframe thead th {\n",
       "        text-align: right;\n",
       "    }\n",
       "</style>\n",
       "<table border=\"1\" class=\"dataframe\">\n",
       "  <thead>\n",
       "    <tr style=\"text-align: right;\">\n",
       "      <th></th>\n",
       "      <th>model</th>\n",
       "      <th>metric</th>\n",
       "      <th>value</th>\n",
       "    </tr>\n",
       "  </thead>\n",
       "  <tbody>\n",
       "    <tr>\n",
       "      <th>0</th>\n",
       "      <td>LinearRegression_RUL</td>\n",
       "      <td>MAE / R2</td>\n",
       "      <td>31.55 / 0.616</td>\n",
       "    </tr>\n",
       "    <tr>\n",
       "      <th>1</th>\n",
       "      <td>LogisticRegression_HealthStage</td>\n",
       "      <td>Accuracy</td>\n",
       "      <td>0.676</td>\n",
       "    </tr>\n",
       "  </tbody>\n",
       "</table>\n",
       "</div>"
      ],
      "text/plain": [
       "                            model    metric          value\n",
       "0            LinearRegression_RUL  MAE / R2  31.55 / 0.616\n",
       "1  LogisticRegression_HealthStage  Accuracy          0.676"
      ]
     },
     "metadata": {},
     "output_type": "display_data"
    }
   ],
   "source": [
    "results = {\n",
    "    \"model\": [\"LinearRegression_RUL\", \"LogisticRegression_HealthStage\"],\n",
    "    \"metric\": [\"MAE / R2\", \"Accuracy\"],\n",
    "    \"value\": [f\"{mae:.2f} / {r2:.3f}\", f\"{acc:.3f}\"]\n",
    "}\n",
    "\n",
    "df_results = pd.DataFrame(results)\n",
    "df_results.to_csv(REPORTS / \"baseline_metrics.csv\", index=False)\n",
    "display(df_results)\n"
   ]
  },
  {
   "cell_type": "code",
   "execution_count": 8,
   "id": "72e35ab1-13ed-4c37-94fe-2708b40d862e",
   "metadata": {},
   "outputs": [
    {
     "name": "stdout",
     "output_type": "stream",
     "text": [
      "Quality Checks\n",
      "- Train MAE > 0 and R² > 0: True\n",
      "- Accuracy > random guess (~33%): True\n",
      "- Feature scaling mean ≈ 0: True\n"
     ]
    }
   ],
   "source": [
    "print(\"Quality Checks\")\n",
    "print(\"- Train MAE > 0 and R² > 0:\", mae > 0 and r2 > 0)\n",
    "print(\"- Accuracy > random guess (~33%):\", acc > 0.33)\n",
    "print(\"- Feature scaling mean ≈ 0:\", np.allclose(X_train.mean(axis=0), 0, atol=1e-1))\n"
   ]
  }
 ],
 "metadata": {
  "kernelspec": {
   "display_name": "Python 3 (ipykernel)",
   "language": "python",
   "name": "python3"
  },
  "language_info": {
   "codemirror_mode": {
    "name": "ipython",
    "version": 3
   },
   "file_extension": ".py",
   "mimetype": "text/x-python",
   "name": "python",
   "nbconvert_exporter": "python",
   "pygments_lexer": "ipython3",
   "version": "3.11.13"
  }
 },
 "nbformat": 4,
 "nbformat_minor": 5
}
