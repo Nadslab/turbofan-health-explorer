{
 "cells": [
  {
   "cell_type": "code",
   "execution_count": 2,
   "id": "190d64db-ebb7-41e7-bed8-7bfb79d4d35e",
   "metadata": {},
   "outputs": [
    {
     "name": "stdout",
     "output_type": "stream",
     "text": [
      "Loaded: (20631, 24)\n"
     ]
    },
    {
     "data": {
      "text/html": [
       "<div>\n",
       "<style scoped>\n",
       "    .dataframe tbody tr th:only-of-type {\n",
       "        vertical-align: middle;\n",
       "    }\n",
       "\n",
       "    .dataframe tbody tr th {\n",
       "        vertical-align: top;\n",
       "    }\n",
       "\n",
       "    .dataframe thead th {\n",
       "        text-align: right;\n",
       "    }\n",
       "</style>\n",
       "<table border=\"1\" class=\"dataframe\">\n",
       "  <thead>\n",
       "    <tr style=\"text-align: right;\">\n",
       "      <th></th>\n",
       "      <th>unit</th>\n",
       "      <th>cycle</th>\n",
       "      <th>op1</th>\n",
       "      <th>op2</th>\n",
       "      <th>op3</th>\n",
       "      <th>s2</th>\n",
       "      <th>s3</th>\n",
       "      <th>s4</th>\n",
       "      <th>s7</th>\n",
       "      <th>s8</th>\n",
       "      <th>...</th>\n",
       "      <th>s4_rollmean</th>\n",
       "      <th>s4_rollstd</th>\n",
       "      <th>s2_ema</th>\n",
       "      <th>s3_ema</th>\n",
       "      <th>s4_ema</th>\n",
       "      <th>s2_slope</th>\n",
       "      <th>s3_slope</th>\n",
       "      <th>s4_slope</th>\n",
       "      <th>RUL</th>\n",
       "      <th>health_stage</th>\n",
       "    </tr>\n",
       "  </thead>\n",
       "  <tbody>\n",
       "    <tr>\n",
       "      <th>0</th>\n",
       "      <td>1</td>\n",
       "      <td>1</td>\n",
       "      <td>-0.0007</td>\n",
       "      <td>-0.0004</td>\n",
       "      <td>100.0</td>\n",
       "      <td>641.820007</td>\n",
       "      <td>1589.699951</td>\n",
       "      <td>1400.599976</td>\n",
       "      <td>554.359985</td>\n",
       "      <td>2388.060059</td>\n",
       "      <td>...</td>\n",
       "      <td>1400.599976</td>\n",
       "      <td>0.000000</td>\n",
       "      <td>641.820007</td>\n",
       "      <td>1589.699951</td>\n",
       "      <td>1400.599976</td>\n",
       "      <td>NaN</td>\n",
       "      <td>NaN</td>\n",
       "      <td>NaN</td>\n",
       "      <td>191</td>\n",
       "      <td>healthy</td>\n",
       "    </tr>\n",
       "    <tr>\n",
       "      <th>1</th>\n",
       "      <td>1</td>\n",
       "      <td>2</td>\n",
       "      <td>0.0019</td>\n",
       "      <td>-0.0003</td>\n",
       "      <td>100.0</td>\n",
       "      <td>642.150024</td>\n",
       "      <td>1591.819946</td>\n",
       "      <td>1403.140015</td>\n",
       "      <td>553.750000</td>\n",
       "      <td>2388.040039</td>\n",
       "      <td>...</td>\n",
       "      <td>1401.869995</td>\n",
       "      <td>1.796079</td>\n",
       "      <td>641.851438</td>\n",
       "      <td>1589.901855</td>\n",
       "      <td>1400.841884</td>\n",
       "      <td>0.330017</td>\n",
       "      <td>2.119995</td>\n",
       "      <td>2.540039</td>\n",
       "      <td>190</td>\n",
       "      <td>healthy</td>\n",
       "    </tr>\n",
       "    <tr>\n",
       "      <th>2</th>\n",
       "      <td>1</td>\n",
       "      <td>3</td>\n",
       "      <td>-0.0043</td>\n",
       "      <td>0.0003</td>\n",
       "      <td>100.0</td>\n",
       "      <td>642.349976</td>\n",
       "      <td>1587.989990</td>\n",
       "      <td>1404.199951</td>\n",
       "      <td>554.260010</td>\n",
       "      <td>2388.080078</td>\n",
       "      <td>...</td>\n",
       "      <td>1402.646647</td>\n",
       "      <td>1.850004</td>\n",
       "      <td>641.898917</td>\n",
       "      <td>1589.719773</td>\n",
       "      <td>1401.161700</td>\n",
       "      <td>0.264984</td>\n",
       "      <td>-0.854980</td>\n",
       "      <td>1.799988</td>\n",
       "      <td>189</td>\n",
       "      <td>healthy</td>\n",
       "    </tr>\n",
       "    <tr>\n",
       "      <th>3</th>\n",
       "      <td>1</td>\n",
       "      <td>4</td>\n",
       "      <td>0.0007</td>\n",
       "      <td>0.0000</td>\n",
       "      <td>100.0</td>\n",
       "      <td>642.349976</td>\n",
       "      <td>1582.790039</td>\n",
       "      <td>1401.869995</td>\n",
       "      <td>554.450012</td>\n",
       "      <td>2388.110107</td>\n",
       "      <td>...</td>\n",
       "      <td>1402.452484</td>\n",
       "      <td>1.559639</td>\n",
       "      <td>641.941875</td>\n",
       "      <td>1589.059798</td>\n",
       "      <td>1401.229157</td>\n",
       "      <td>0.178986</td>\n",
       "      <td>-2.455969</td>\n",
       "      <td>0.487000</td>\n",
       "      <td>188</td>\n",
       "      <td>healthy</td>\n",
       "    </tr>\n",
       "    <tr>\n",
       "      <th>4</th>\n",
       "      <td>1</td>\n",
       "      <td>5</td>\n",
       "      <td>-0.0019</td>\n",
       "      <td>-0.0002</td>\n",
       "      <td>100.0</td>\n",
       "      <td>642.369995</td>\n",
       "      <td>1582.849976</td>\n",
       "      <td>1406.219971</td>\n",
       "      <td>554.000000</td>\n",
       "      <td>2388.060059</td>\n",
       "      <td>...</td>\n",
       "      <td>1403.205981</td>\n",
       "      <td>2.159432</td>\n",
       "      <td>641.982649</td>\n",
       "      <td>1588.468387</td>\n",
       "      <td>1401.704472</td>\n",
       "      <td>0.129993</td>\n",
       "      <td>-2.272986</td>\n",
       "      <td>0.996997</td>\n",
       "      <td>187</td>\n",
       "      <td>healthy</td>\n",
       "    </tr>\n",
       "  </tbody>\n",
       "</table>\n",
       "<p>5 rows × 24 columns</p>\n",
       "</div>"
      ],
      "text/plain": [
       "   unit  cycle     op1     op2    op3          s2           s3           s4  \\\n",
       "0     1      1 -0.0007 -0.0004  100.0  641.820007  1589.699951  1400.599976   \n",
       "1     1      2  0.0019 -0.0003  100.0  642.150024  1591.819946  1403.140015   \n",
       "2     1      3 -0.0043  0.0003  100.0  642.349976  1587.989990  1404.199951   \n",
       "3     1      4  0.0007  0.0000  100.0  642.349976  1582.790039  1401.869995   \n",
       "4     1      5 -0.0019 -0.0002  100.0  642.369995  1582.849976  1406.219971   \n",
       "\n",
       "           s7           s8  ...  s4_rollmean  s4_rollstd      s2_ema  \\\n",
       "0  554.359985  2388.060059  ...  1400.599976    0.000000  641.820007   \n",
       "1  553.750000  2388.040039  ...  1401.869995    1.796079  641.851438   \n",
       "2  554.260010  2388.080078  ...  1402.646647    1.850004  641.898917   \n",
       "3  554.450012  2388.110107  ...  1402.452484    1.559639  641.941875   \n",
       "4  554.000000  2388.060059  ...  1403.205981    2.159432  641.982649   \n",
       "\n",
       "        s3_ema       s4_ema  s2_slope  s3_slope  s4_slope  RUL  health_stage  \n",
       "0  1589.699951  1400.599976       NaN       NaN       NaN  191       healthy  \n",
       "1  1589.901855  1400.841884  0.330017  2.119995  2.540039  190       healthy  \n",
       "2  1589.719773  1401.161700  0.264984 -0.854980  1.799988  189       healthy  \n",
       "3  1589.059798  1401.229157  0.178986 -2.455969  0.487000  188       healthy  \n",
       "4  1588.468387  1401.704472  0.129993 -2.272986  0.996997  187       healthy  \n",
       "\n",
       "[5 rows x 24 columns]"
      ]
     },
     "execution_count": 2,
     "metadata": {},
     "output_type": "execute_result"
    }
   ],
   "source": [
    "import pandas as pd\n",
    "import numpy as np\n",
    "from pathlib import Path\n",
    "\n",
    "# Paths\n",
    "PROJECT = Path(\"C:/Users/Admin/Desktop/Projects/turbofan-health-explorer\")\n",
    "PROC = PROJECT / \"data\" / \"processed\"\n",
    "REPORTS = PROJECT / \"reports\"\n",
    "REPORTS.mkdir(exist_ok=True)\n",
    "\n",
    "# Load labeled dataset\n",
    "df = pd.read_parquet(PROC / \"train_FD001_labeled.parquet\")\n",
    "\n",
    "print(\"Loaded:\", df.shape)\n",
    "df.head()\n"
   ]
  },
  {
   "cell_type": "code",
   "execution_count": 3,
   "id": "55fa4d03-1c64-4bcb-8b25-91983769b138",
   "metadata": {},
   "outputs": [
    {
     "name": "stdout",
     "output_type": "stream",
     "text": [
      "Total unique engines: 100\n",
      "First 10 engine IDs: [ 1  2  3  4  5  6  7  8  9 10]\n"
     ]
    }
   ],
   "source": [
    "units = df[\"unit\"].unique()\n",
    "n_units = len(units)\n",
    "\n",
    "print(f\"Total unique engines: {n_units}\")\n",
    "print(\"First 10 engine IDs:\", units[:10])\n"
   ]
  },
  {
   "cell_type": "code",
   "execution_count": 4,
   "id": "bf537278-c714-4a4c-b9be-be46927a2e34",
   "metadata": {},
   "outputs": [
    {
     "name": "stdout",
     "output_type": "stream",
     "text": [
      "Train: 72 units\n",
      "Val:   8 units\n",
      "Test:  20 units\n"
     ]
    }
   ],
   "source": [
    "from sklearn.model_selection import train_test_split\n",
    "\n",
    "# Reproducible split\n",
    "train_units, test_units = train_test_split(units, test_size=0.2, random_state=42)\n",
    "train_units, val_units = train_test_split(train_units, test_size=0.1, random_state=42)\n",
    "\n",
    "print(f\"Train: {len(train_units)} units\")\n",
    "print(f\"Val:   {len(val_units)} units\")\n",
    "print(f\"Test:  {len(test_units)} units\")\n"
   ]
  },
  {
   "cell_type": "code",
   "execution_count": 5,
   "id": "2671d90a-640a-48aa-8a29-b14073f61635",
   "metadata": {},
   "outputs": [
    {
     "data": {
      "text/plain": [
       "split\n",
       "train    14874\n",
       "test      4070\n",
       "val       1687\n",
       "Name: count, dtype: int64"
      ]
     },
     "execution_count": 5,
     "metadata": {},
     "output_type": "execute_result"
    }
   ],
   "source": [
    "def assign_split(unit):\n",
    "    if unit in train_units:\n",
    "        return \"train\"\n",
    "    elif unit in val_units:\n",
    "        return \"val\"\n",
    "    else:\n",
    "        return \"test\"\n",
    "\n",
    "df[\"split\"] = df[\"unit\"].apply(assign_split)\n",
    "\n",
    "df[\"split\"].value_counts()\n"
   ]
  },
  {
   "cell_type": "code",
   "execution_count": 6,
   "id": "f0da682c-faf8-49ea-b24f-44268504a7d4",
   "metadata": {},
   "outputs": [
    {
     "name": "stdout",
     "output_type": "stream",
     "text": [
      "Saved split definitions:\n",
      " - units_train.csv\n",
      " - units_val.csv\n",
      " - units_test.csv\n"
     ]
    }
   ],
   "source": [
    "# Save unit ID lists for reproducibility\n",
    "pd.Series(train_units).to_csv(PROC / \"units_train.csv\", index=False)\n",
    "pd.Series(val_units).to_csv(PROC / \"units_val.csv\", index=False)\n",
    "pd.Series(test_units).to_csv(PROC / \"units_test.csv\", index=False)\n",
    "\n",
    "print(\"Saved split definitions:\")\n",
    "print(\" - units_train.csv\")\n",
    "print(\" - units_val.csv\")\n",
    "print(\" - units_test.csv\")\n"
   ]
  },
  {
   "cell_type": "code",
   "execution_count": 7,
   "id": "0cd80043-9ecd-4265-b0a5-79d8b85d40ae",
   "metadata": {},
   "outputs": [
    {
     "name": "stdout",
     "output_type": "stream",
     "text": [
      "Split Checks:\n",
      "- No duplicates across splits: True\n",
      "- Train units: 72\n",
      "- Validation units: 8\n",
      "- Test units: 20\n",
      "\n",
      "Cycle range per split:\n"
     ]
    },
    {
     "data": {
      "text/html": [
       "<div>\n",
       "<style scoped>\n",
       "    .dataframe tbody tr th:only-of-type {\n",
       "        vertical-align: middle;\n",
       "    }\n",
       "\n",
       "    .dataframe tbody tr th {\n",
       "        vertical-align: top;\n",
       "    }\n",
       "\n",
       "    .dataframe thead th {\n",
       "        text-align: right;\n",
       "    }\n",
       "</style>\n",
       "<table border=\"1\" class=\"dataframe\">\n",
       "  <thead>\n",
       "    <tr style=\"text-align: right;\">\n",
       "      <th></th>\n",
       "      <th>min</th>\n",
       "      <th>max</th>\n",
       "      <th>mean</th>\n",
       "    </tr>\n",
       "    <tr>\n",
       "      <th>split</th>\n",
       "      <th></th>\n",
       "      <th></th>\n",
       "      <th></th>\n",
       "    </tr>\n",
       "  </thead>\n",
       "  <tbody>\n",
       "    <tr>\n",
       "      <th>test</th>\n",
       "      <td>1</td>\n",
       "      <td>269</td>\n",
       "      <td>106.5</td>\n",
       "    </tr>\n",
       "    <tr>\n",
       "      <th>train</th>\n",
       "      <td>1</td>\n",
       "      <td>362</td>\n",
       "      <td>108.7</td>\n",
       "    </tr>\n",
       "    <tr>\n",
       "      <th>val</th>\n",
       "      <td>1</td>\n",
       "      <td>341</td>\n",
       "      <td>115.3</td>\n",
       "    </tr>\n",
       "  </tbody>\n",
       "</table>\n",
       "</div>"
      ],
      "text/plain": [
       "       min  max   mean\n",
       "split                 \n",
       "test     1  269  106.5\n",
       "train    1  362  108.7\n",
       "val      1  341  115.3"
      ]
     },
     "metadata": {},
     "output_type": "display_data"
    },
    {
     "name": "stdout",
     "output_type": "stream",
     "text": [
      "\n",
      "Health stage distribution per split:\n"
     ]
    },
    {
     "data": {
      "text/plain": [
       "split  health_stage\n",
       "test   healthy         40.54\n",
       "       warning         34.40\n",
       "       near_fail       25.06\n",
       "train  healthy         41.43\n",
       "       warning         33.88\n",
       "       near_fail       24.69\n",
       "val    healthy         42.62\n",
       "       warning         33.20\n",
       "       near_fail       24.18\n",
       "Name: proportion, dtype: float64"
      ]
     },
     "metadata": {},
     "output_type": "display_data"
    }
   ],
   "source": [
    "print(\"Split Checks:\")\n",
    "print(\"- No duplicates across splits:\",\n",
    "      len(set(train_units) & set(val_units) & set(test_units)) == 0)\n",
    "\n",
    "print(\"- Train units:\", len(train_units))\n",
    "print(\"- Validation units:\", len(val_units))\n",
    "print(\"- Test units:\", len(test_units))\n",
    "\n",
    "print(\"\\nCycle range per split:\")\n",
    "display(df.groupby(\"split\")[\"cycle\"].agg([\"min\", \"max\", \"mean\"]).round(1))\n",
    "\n",
    "print(\"\\nHealth stage distribution per split:\")\n",
    "display(df.groupby(\"split\")[\"health_stage\"].value_counts(normalize=True).mul(100).round(2))\n"
   ]
  },
  {
   "cell_type": "code",
   "execution_count": 8,
   "id": "d2914561-0ada-4d81-b3c2-44f5f47fd5ba",
   "metadata": {},
   "outputs": [
    {
     "name": "stdout",
     "output_type": "stream",
     "text": [
      "Saved split dataset to: C:\\Users\\Admin\\Desktop\\Projects\\turbofan-health-explorer\\data\\processed\\train_FD001_split.parquet\n"
     ]
    }
   ],
   "source": [
    "out_path = PROC / \"train_FD001_split.parquet\"\n",
    "df.to_parquet(out_path, index=False)\n",
    "print(\"Saved split dataset to:\", out_path)\n"
   ]
  },
  {
   "cell_type": "code",
   "execution_count": 9,
   "id": "3b75358b-acdc-4762-9375-458111a814d3",
   "metadata": {},
   "outputs": [
    {
     "data": {
      "text/html": [
       "<div>\n",
       "<style scoped>\n",
       "    .dataframe tbody tr th:only-of-type {\n",
       "        vertical-align: middle;\n",
       "    }\n",
       "\n",
       "    .dataframe tbody tr th {\n",
       "        vertical-align: top;\n",
       "    }\n",
       "\n",
       "    .dataframe thead th {\n",
       "        text-align: right;\n",
       "    }\n",
       "</style>\n",
       "<table border=\"1\" class=\"dataframe\">\n",
       "  <thead>\n",
       "    <tr style=\"text-align: right;\">\n",
       "      <th></th>\n",
       "      <th>Split</th>\n",
       "      <th>Num_Units</th>\n",
       "      <th>Example_Units</th>\n",
       "    </tr>\n",
       "  </thead>\n",
       "  <tbody>\n",
       "    <tr>\n",
       "      <th>0</th>\n",
       "      <td>Train</td>\n",
       "      <td>72</td>\n",
       "      <td>70, 86, 98, 39, 3</td>\n",
       "    </tr>\n",
       "    <tr>\n",
       "      <th>1</th>\n",
       "      <td>Validation</td>\n",
       "      <td>8</td>\n",
       "      <td>25, 56, 8, 4, 36</td>\n",
       "    </tr>\n",
       "    <tr>\n",
       "      <th>2</th>\n",
       "      <td>Test</td>\n",
       "      <td>20</td>\n",
       "      <td>84, 54, 71, 46, 45</td>\n",
       "    </tr>\n",
       "  </tbody>\n",
       "</table>\n",
       "</div>"
      ],
      "text/plain": [
       "        Split  Num_Units       Example_Units\n",
       "0       Train         72   70, 86, 98, 39, 3\n",
       "1  Validation          8    25, 56, 8, 4, 36\n",
       "2        Test         20  84, 54, 71, 46, 45"
      ]
     },
     "metadata": {},
     "output_type": "display_data"
    }
   ],
   "source": [
    "summary = pd.DataFrame({\n",
    "    \"Split\": [\"Train\", \"Validation\", \"Test\"],\n",
    "    \"Num_Units\": [len(train_units), len(val_units), len(test_units)],\n",
    "    \"Example_Units\": [\n",
    "        \", \".join(map(str, train_units[:5])),\n",
    "        \", \".join(map(str, val_units[:5])),\n",
    "        \", \".join(map(str, test_units[:5])),\n",
    "    ]\n",
    "})\n",
    "display(summary)\n",
    "summary.to_csv(REPORTS / \"split_summary.csv\", index=False)\n"
   ]
  },
  {
   "cell_type": "code",
   "execution_count": null,
   "id": "7b0662d4-016f-4968-8828-dcd6619fc1bf",
   "metadata": {},
   "outputs": [],
   "source": []
  },
  {
   "cell_type": "code",
   "execution_count": null,
   "id": "1354221c-7a71-45f4-acbd-567c69d41df3",
   "metadata": {},
   "outputs": [],
   "source": []
  }
 ],
 "metadata": {
  "kernelspec": {
   "display_name": "Python 3 (ipykernel)",
   "language": "python",
   "name": "python3"
  },
  "language_info": {
   "codemirror_mode": {
    "name": "ipython",
    "version": 3
   },
   "file_extension": ".py",
   "mimetype": "text/x-python",
   "name": "python",
   "nbconvert_exporter": "python",
   "pygments_lexer": "ipython3",
   "version": "3.11.13"
  }
 },
 "nbformat": 4,
 "nbformat_minor": 5
}
